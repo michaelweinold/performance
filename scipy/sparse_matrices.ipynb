{
 "cells": [
  {
   "cell_type": "markdown",
   "metadata": {},
   "source": [
    "💡 [`csr_matrix` information on indexing](https://stackoverflow.com/a/52299730) \\\n",
    "💡 [`scipy.sparse.coo_matrix`](https://docs.scipy.org/doc/scipy/reference/generated/scipy.sparse.coo_matrix.html#scipy-sparse-coo-matrix) \\\n",
    "💡 [`scipy.sparse.csr_matrix`](https://docs.scipy.org/doc/scipy/reference/generated/scipy.sparse.csr_matrix.html#scipy-sparse-csr-matrix) \\\n",
    "💡 [`scipy.sparse.lil_matrix`](https://docs.scipy.org/doc/scipy/reference/generated/scipy.sparse.lil_matrix.html#scipy.sparse.lil_matrix) \\\n",
    "💡 [`%%timeit` magic documentation](https://ipython.readthedocs.io/en/stable/interactive/magics.html) "
   ]
  },
  {
   "cell_type": "markdown",
   "metadata": {},
   "source": [
    "### 0. imports"
   ]
  },
  {
   "cell_type": "code",
   "execution_count": 54,
   "metadata": {},
   "outputs": [],
   "source": [
    "# data science\n",
    "import scipy as sp\n",
    "import numpy as np\n",
    "import pandas as pd\n",
    "# random numbers https://numpy.org/doc/stable/reference/random/index.html#random-quick-start\n",
    "from numpy.random import default_rng\n",
    "rng = default_rng()\n",
    "# plotting\n",
    "import matplotlib.pyplot as plt\n",
    "# i/o\n",
    "import gzip\n",
    "import csv\n",
    "import pickle\n",
    "# type hints\n",
    "from scipy.sparse import (\n",
    "    coo_matrix,\n",
    "    csr_matrix,\n",
    "    csc_matrix,\n",
    "    lil_matrix\n",
    ")\n",
    "from IPython.core.magics.execution import TimeitResult"
   ]
  },
  {
   "cell_type": "markdown",
   "metadata": {},
   "source": [
    "### 1.1. generate matrices\n",
    "#### 1.1.1. sample sparse matrix\n",
    "⏳ runtime ~10s/20kx20k matrix"
   ]
  },
  {
   "cell_type": "code",
   "execution_count": 20,
   "metadata": {},
   "outputs": [],
   "source": [
    "M_coo = sp.sparse.random(\n",
    "    m = 20000,\n",
    "    n = 20000,\n",
    "    density = 0.01,\n",
    "    format = 'coo',\n",
    "    dtype = float,\n",
    "    random_state = 42\n",
    ")\n",
    "M_csr = sp.sparse.random(\n",
    "    m = 20000,\n",
    "    n = 20000,\n",
    "    density = 0.01,\n",
    "    format = 'csr',\n",
    "    dtype = float,\n",
    "    random_state = 42\n",
    ")\n",
    "M_lil = sp.sparse.random(\n",
    "    m = 20000,\n",
    "    n = 20000,\n",
    "    density = 0.01,\n",
    "    format = 'lil',\n",
    "    dtype = float,\n",
    "    random_state = 42\n",
    ")"
   ]
  },
  {
   "cell_type": "markdown",
   "metadata": {},
   "source": [
    "### 1.1.2. ecoinvent"
   ]
  },
  {
   "cell_type": "code",
   "execution_count": 51,
   "metadata": {},
   "outputs": [],
   "source": [
    "%%capture\n",
    "print(path_file_e2m_pickle := './data/ecoinvent_3_5_cutoffPandas_symmNorm.gz.pickle')\n",
    "print(path_file_e2m_rows_to_zero := './data/rows_to_zero.csv')"
   ]
  },
  {
   "cell_type": "code",
   "execution_count": 88,
   "metadata": {},
   "outputs": [],
   "source": [
    "with gzip.open(path_file_e2m_pickle, 'rb') as file_in:\n",
    "    ecoinvent: dict = pickle.load(file_in)\n",
    "A = ecoinvent['A']\n",
    "A_coo = sp.sparse.coo_matrix(A)\n",
    "A_csr = sp.sparse.csr_matrix(A)\n",
    "A_lil = sp.sparse.lil_matrix(A)"
   ]
  },
  {
   "cell_type": "markdown",
   "metadata": {},
   "source": [
    "### 1.2. generate list of rows to set to zero\n",
    "#### 1.2.1. sample sparse matrix\n",
    "ℹ️ `index_M_zero` contains only indices of rows to be set to zero "
   ]
  },
  {
   "cell_type": "code",
   "execution_count": 106,
   "metadata": {},
   "outputs": [],
   "source": [
    "array_for_masking_M: np.array = rng.choice(\n",
    "    a = [0, 1],\n",
    "    size = (M_coo.shape[0], ),\n",
    "    p = [0.2, 0.8]\n",
    ")\n",
    "index_M: np.array = np.arange(\n",
    "    start = 0,\n",
    "    stop = M_coo.shape[0],\n",
    "    step = 1,\n",
    "    dtype=int\n",
    ")\n",
    "index_M_zero: np.array = np.ma.masked_array(\n",
    "    data = index_M,\n",
    "    mask = array_for_masking_M\n",
    ").compressed()"
   ]
  },
  {
   "cell_type": "markdown",
   "metadata": {},
   "source": [
    "#### 1.2.2. ecoinvent"
   ]
  },
  {
   "cell_type": "code",
   "execution_count": 105,
   "metadata": {},
   "outputs": [],
   "source": [
    "array_for_masking_A: np.array = rng.choice(\n",
    "    a = [0, 1],\n",
    "    size = (A_coo.shape[0], ),\n",
    "    p = [0.45, 0.55]\n",
    ")\n",
    "index_A: np.array = np.arange(\n",
    "    start = 0,\n",
    "    stop = A_coo.shape[0],\n",
    "    step = 1,\n",
    "    dtype=int\n",
    ")\n",
    "index_A_zero: np.array = np.ma.masked_array(\n",
    "    data = index_A,\n",
    "    mask = array_for_masking_A\n",
    ").compressed()"
   ]
  },
  {
   "cell_type": "markdown",
   "metadata": {},
   "source": [
    "### 2.1. implementations of \"set rows to zero\"\n",
    "#### 2.1.1. [\"COO: multiply with a diagonal matrix\"](https://stackoverflow.com/a/65364784)"
   ]
  },
  {
   "cell_type": "code",
   "execution_count": 23,
   "metadata": {},
   "outputs": [],
   "source": [
    "def matrix_multiplication(\n",
    "    matrix: coo_matrix,\n",
    "    rows: np.array\n",
    ") -> coo_matrix:\n",
    "\n",
    "    array_for_diagonal: np.array = np.ones(\n",
    "        shape = [matrix.shape[0]],\n",
    "        dtype = int\n",
    "    )\n",
    "    array_for_diagonal[rows] = 0\n",
    "\n",
    "    matrix = matrix @ sp.sparse.diags(array_for_diagonal)\n",
    "\n",
    "    return matrix\n"
   ]
  },
  {
   "cell_type": "markdown",
   "metadata": {},
   "source": [
    "#### 2.1.2 [\"CSR: edit `csr.data` using a for-loop with `csr.indptr`\"](https://stackoverflow.com/q/12129948)\n",
    "\n",
    "💡 [`csr_matrix` information on indexing](https://stackoverflow.com/a/52299730)"
   ]
  },
  {
   "cell_type": "code",
   "execution_count": 24,
   "metadata": {},
   "outputs": [],
   "source": [
    "def csr_loop_set_rows_to_zero(\n",
    "    matrix: csr_matrix,\n",
    "    rows: np.array\n",
    ") -> csr_matrix:\n",
    "\n",
    "    for row in rows:\n",
    "        matrix.data[\n",
    "            matrix.indptr[row]:matrix.indptr[row+1]\n",
    "        ] = 0\n",
    "        \n",
    "    return matrix"
   ]
  },
  {
   "cell_type": "markdown",
   "metadata": {},
   "source": [
    "#### 2.1.3 [\"CSR: regular indexing notation\"](https://stackoverflow.com/a/15900629)\n",
    "\n",
    "⚠️ this runs too long for `%%timeit` to complete in a reasonable time"
   ]
  },
  {
   "cell_type": "code",
   "execution_count": 25,
   "metadata": {},
   "outputs": [],
   "source": [
    "def csr_indexing_set_rows_to_zero(\n",
    "    matrix: csr_matrix,\n",
    "    rows: np.array\n",
    ") -> csr_matrix:\n",
    "\n",
    "    for row in rows:\n",
    "        matrix[row,:] = 0\n",
    "    \n",
    "    return matrix"
   ]
  },
  {
   "cell_type": "markdown",
   "metadata": {},
   "source": [
    "#### 2.1.4 [\"LIL: regular indexing notation\"](https://stackoverflow.com/a/69310639)\n",
    "\n",
    "💡 [`scipy.sparse.lil_matrix`](https://docs.scipy.org/doc/scipy/reference/generated/scipy.sparse.lil_matrix.html#scipy.sparse.lil_matrix)"
   ]
  },
  {
   "cell_type": "code",
   "execution_count": 26,
   "metadata": {},
   "outputs": [],
   "source": [
    "def lil_set_rows_to_zero(\n",
    "    matrix: lil_matrix,\n",
    "    rows: np.array\n",
    ") -> lil_matrix:\n",
    "\n",
    "    for row in rows:\n",
    "        matrix[row,:] = 0\n",
    "    \n",
    "    return matrix"
   ]
  },
  {
   "cell_type": "markdown",
   "metadata": {},
   "source": [
    "#### 2.1.5 \"CSR/dense: convert back-and-forth between dense and sparse matrices\""
   ]
  },
  {
   "cell_type": "code",
   "execution_count": 27,
   "metadata": {},
   "outputs": [],
   "source": [
    "def convert_to_dense_and_back(\n",
    "    matrix: coo_matrix,\n",
    "    rows: np.array\n",
    ") -> coo_matrix:\n",
    "\n",
    "    mask_rows = np.ones(\n",
    "        shape = (matrix.shape[0], ),\n",
    "        dtype = bool\n",
    "    )\n",
    "    mask_rows[rows] = False\n",
    "\n",
    "    matrix_dense = matrix.todense()\n",
    "    matrix_dense[mask_rows] = 0\n",
    "    matrix = coo_matrix(matrix_dense)\n",
    "\n",
    "    return matrix\n"
   ]
  },
  {
   "cell_type": "markdown",
   "metadata": {},
   "source": [
    "#### 2.1.6 [\"CSR: mask out `csr.data` and `csr.indices` using `csr.indptr`\"](https://stackoverflow.com/a/19800305)"
   ]
  },
  {
   "cell_type": "markdown",
   "metadata": {},
   "source": [
    "❓ what does `np.diff(csr_matrix.indptr)` do? \\\n",
    "❗️ it counts the number of `data` per *index pointer* (`indptr`), which is the number of `data` per *row*\n",
    "\n",
    "❓ what does `np.repeat(mask, nnz_per_row)` do? \\\n",
    "❗️ see OneNote drawing"
   ]
  },
  {
   "cell_type": "code",
   "execution_count": 44,
   "metadata": {},
   "outputs": [],
   "source": [
    "def csr_mask_set_rows_to_zero(\n",
    "    matrix: csr_matrix,\n",
    "    rows: np.array\n",
    ") -> csr_matrix:\n",
    "\n",
    "    number_nonzero_per_row: np.array = np.diff(matrix.indptr)\n",
    "\n",
    "    mask_rows = np.ones(\n",
    "        shape = (matrix.shape[0], ),\n",
    "        dtype = bool\n",
    "    )\n",
    "    mask_rows[rows] = False\n",
    "\n",
    "    mask = np.repeat(\n",
    "        a = mask_rows, # input array, TRUE for rows to keep, FALSE for rows to set 0\n",
    "        repeats = number_nonzero_per_row # array with number of non-zero elements (=data) per row\n",
    "    )\n",
    " \n",
    "    number_nonzero_per_row[rows] = 0\n",
    "\n",
    "    matrix.data = matrix.data[mask]\n",
    "    matrix.indices = matrix.indices[mask]\n",
    "    matrix.indptr[1:] = np.cumsum(number_nonzero_per_row)\n",
    "\n",
    "    return matrix"
   ]
  },
  {
   "cell_type": "markdown",
   "metadata": {},
   "source": [
    "#### 2.1.7 [\"CSR: concatenate magic\"](https://stackoverflow.com/a/58748646)\n",
    "\n",
    "🙈 whaaat?"
   ]
  },
  {
   "cell_type": "code",
   "execution_count": 29,
   "metadata": {},
   "outputs": [],
   "source": [
    "def qq():\n",
    "    idx = a.indptr.searchsorted(*(a.indices==i).nonzero(),\"right\")-1\n",
    "    return np.bincount(\n",
    "        np.concatenate([a.indices[a.indptr[i]:a.indptr[i+1]] for i in idx]),\n",
    "        np.concatenate([a.data[a.indptr[i]:a.indptr[i+1]] for i in idx]),\n",
    "        a.shape[1]) / len(idx)"
   ]
  },
  {
   "cell_type": "markdown",
   "metadata": {},
   "source": [
    "#### 2.1.8 [`pylcaio` implementation (convert to `pd.DataFrame`)](https://github.com/OASES-project/pylcaio/blob/master/src/pylcaio.py#L1340)"
   ]
  },
  {
   "cell_type": "code",
   "execution_count": 41,
   "metadata": {},
   "outputs": [],
   "source": [
    "def pylcaio_implementation(\n",
    "    matrix: csr_matrix,\n",
    "    rows: np.array\n",
    ") -> np.array:\n",
    "\n",
    "    dataframe = pd.DataFrame(\n",
    "        data = matrix.todense()\n",
    "    )\n",
    "    \n",
    "    dataframe.loc[rows] = 0\n",
    "\n",
    "    matrix = sp.sparse.csr_matrix(dataframe)\n",
    "\n",
    "    return matrix"
   ]
  },
  {
   "cell_type": "markdown",
   "metadata": {},
   "source": [
    "### 3.1. measuring performance\n",
    "#### 3.1.1. sample sparse matrix"
   ]
  },
  {
   "cell_type": "code",
   "execution_count": 42,
   "metadata": {},
   "outputs": [
    {
     "name": "stdout",
     "output_type": "stream",
     "text": [
      "2.29 s ± 5.74 ms per loop (mean ± std. dev. of 7 runs, 1 loop each)\n"
     ]
    }
   ],
   "source": [
    "M_time_pylcaio: TimeitResult =  %timeit -o pylcaio_implementation(M_csr, index_M_zero)"
   ]
  },
  {
   "cell_type": "code",
   "execution_count": 37,
   "metadata": {},
   "outputs": [
    {
     "name": "stdout",
     "output_type": "stream",
     "text": [
      "2.22 s ± 12.6 ms per loop (mean ± std. dev. of 7 runs, 1 loop each)\n"
     ]
    }
   ],
   "source": [
    "M_time_conversion: TimeitResult = %timeit -o convert_to_dense_and_back(M_coo, index_M_zero)"
   ]
  },
  {
   "cell_type": "code",
   "execution_count": 32,
   "metadata": {},
   "outputs": [
    {
     "name": "stdout",
     "output_type": "stream",
     "text": [
      "1.37 s ± 10.6 ms per loop (mean ± std. dev. of 7 runs, 1 loop each)\n"
     ]
    }
   ],
   "source": [
    "M_time_lil: TimeitResult =  %timeit -o lil_set_rows_to_zero(M_lil, index_M_zero)"
   ]
  },
  {
   "cell_type": "code",
   "execution_count": 36,
   "metadata": {},
   "outputs": [
    {
     "name": "stdout",
     "output_type": "stream",
     "text": [
      "175 ms ± 472 µs per loop (mean ± std. dev. of 7 runs, 10 loops each)\n"
     ]
    }
   ],
   "source": [
    "M_time_coo: TimeitResult = %timeit -o matrix_multiplication(M_coo, index_M_zero)"
   ]
  },
  {
   "cell_type": "code",
   "execution_count": 45,
   "metadata": {},
   "outputs": [
    {
     "name": "stdout",
     "output_type": "stream",
     "text": [
      "11.2 ms ± 149 µs per loop (mean ± std. dev. of 7 runs, 100 loops each)\n"
     ]
    }
   ],
   "source": [
    "M_time_csr_mask: TimeitResult = %timeit -o csr_mask_set_rows_to_zero(M_csr, index_M_zero)"
   ]
  },
  {
   "cell_type": "code",
   "execution_count": 33,
   "metadata": {},
   "outputs": [
    {
     "name": "stdout",
     "output_type": "stream",
     "text": [
      "1.98 ms ± 15.7 µs per loop (mean ± std. dev. of 7 runs, 100 loops each)\n"
     ]
    }
   ],
   "source": [
    "M_time_csr_loop: TimeitResult =  %timeit -o csr_loop_set_rows_to_zero(M_csr, index_M_zero)"
   ]
  },
  {
   "cell_type": "markdown",
   "metadata": {},
   "source": [
    "#### 3.1.2. ecoinvent technology matrix"
   ]
  },
  {
   "cell_type": "code",
   "execution_count": 107,
   "metadata": {},
   "outputs": [
    {
     "name": "stdout",
     "output_type": "stream",
     "text": [
      "1.47 s ± 7.14 ms per loop (mean ± std. dev. of 7 runs, 1 loop each)\n"
     ]
    }
   ],
   "source": [
    "A_time_pylcaio: TimeitResult =  %timeit -o pylcaio_implementation(A_csr, index_A_zero)"
   ]
  },
  {
   "cell_type": "code",
   "execution_count": 108,
   "metadata": {},
   "outputs": [
    {
     "name": "stdout",
     "output_type": "stream",
     "text": [
      "1.39 s ± 15.9 ms per loop (mean ± std. dev. of 7 runs, 1 loop each)\n"
     ]
    }
   ],
   "source": [
    "A_time_conversion: TimeitResult = %timeit -o convert_to_dense_and_back(A_coo, index_A_zero)"
   ]
  },
  {
   "cell_type": "code",
   "execution_count": 109,
   "metadata": {},
   "outputs": [
    {
     "name": "stdout",
     "output_type": "stream",
     "text": [
      "3.46 ms ± 23.5 µs per loop (mean ± std. dev. of 7 runs, 100 loops each)\n"
     ]
    }
   ],
   "source": [
    "A_time_csr_loop: TimeitResult =  %timeit -o csr_loop_set_rows_to_zero(A_csr, index_A_zero)"
   ]
  },
  {
   "cell_type": "code",
   "execution_count": 110,
   "metadata": {},
   "outputs": [
    {
     "name": "stdout",
     "output_type": "stream",
     "text": [
      "2.67 ms ± 17 µs per loop (mean ± std. dev. of 7 runs, 100 loops each)\n"
     ]
    }
   ],
   "source": [
    "A_time_coo: TimeitResult = %timeit -o matrix_multiplication(A_coo, index_A_zero)"
   ]
  },
  {
   "cell_type": "code",
   "execution_count": 111,
   "metadata": {},
   "outputs": [
    {
     "name": "stdout",
     "output_type": "stream",
     "text": [
      "357 µs ± 4.88 µs per loop (mean ± std. dev. of 7 runs, 1,000 loops each)\n"
     ]
    }
   ],
   "source": [
    "A_time_csr_mask: TimeitResult = %timeit -o csr_mask_set_rows_to_zero(A_csr, index_A_zero)"
   ]
  },
  {
   "cell_type": "code",
   "execution_count": 112,
   "metadata": {},
   "outputs": [
    {
     "name": "stdout",
     "output_type": "stream",
     "text": [
      "3.37 ms ± 64.3 µs per loop (mean ± std. dev. of 7 runs, 100 loops each)\n"
     ]
    }
   ],
   "source": [
    "A_time_csr_loop: TimeitResult =  %timeit -o csr_loop_set_rows_to_zero(A_csr, index_A_zero)"
   ]
  },
  {
   "cell_type": "markdown",
   "metadata": {},
   "source": [
    "### 3.2. plotting"
   ]
  },
  {
   "cell_type": "code",
   "execution_count": 49,
   "metadata": {},
   "outputs": [
    {
     "data": {
      "text/plain": [
       "Text(0, 0.5, 'runtime [s]')"
      ]
     },
     "execution_count": 49,
     "metadata": {},
     "output_type": "execute_result"
    },
    {
     "data": {
      "image/png": "[encoded data removed]",
      "text/plain": [
       "<Figure size 640x480 with 1 Axes>"
      ]
     },
     "metadata": {},
     "output_type": "display_data"
    }
   ],
   "source": [
    "fig, ax = plt.subplots()\n",
    "\n",
    "# axis scale\n",
    "ax.set_yscale('log')\n",
    "\n",
    "# axis labels\n",
    "ax.set_xlabel('algorithm')\n",
    "ax.set_ylabel('runtime [s]')"
   ]
  }
 ],
 "metadata": {
  "kernelspec": {
   "display_name": "Python 3.10.6 ('main')",
   "language": "python",
   "name": "python3"
  },
  "language_info": {
   "codemirror_mode": {
    "name": "ipython",
    "version": 3
   },
   "file_extension": ".py",
   "mimetype": "text/x-python",
   "name": "python",
   "nbconvert_exporter": "python",
   "pygments_lexer": "ipython3",
   "version": "3.10.6"
  },
  "orig_nbformat": 4,
  "vscode": {
   "interpreter": {
    "hash": "5c47573e6b76e4e3b75c409f99dfa4e531246fb1edc220bf519a288d15e464ac"
   }
  }
 },
 "nbformat": 4,
 "nbformat_minor": 2
}
