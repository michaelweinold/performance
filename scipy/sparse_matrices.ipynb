{
 "cells": [
  {
   "cell_type": "markdown",
   "metadata": {},
   "source": [
    "💡 [`csr_matrix` information on indexing](https://stackoverflow.com/a/52299730) \\\n",
    "💡 [`scipy.sparse.coo_matrix`](https://docs.scipy.org/doc/scipy/reference/generated/scipy.sparse.coo_matrix.html#scipy-sparse-coo-matrix) \\\n",
    "💡 [`scipy.sparse.csr_matrix`](https://docs.scipy.org/doc/scipy/reference/generated/scipy.sparse.csr_matrix.html#scipy-sparse-csr-matrix) \\\n",
    "💡 [`scipy.sparse.lil_matrix`](https://docs.scipy.org/doc/scipy/reference/generated/scipy.sparse.lil_matrix.html#scipy.sparse.lil_matrix) \\\n",
    "💡 [`%%timeit` magic documentation](https://ipython.readthedocs.io/en/stable/interactive/magics.html) "
   ]
  },
  {
   "cell_type": "markdown",
   "metadata": {},
   "source": [
    "### 0. imports"
   ]
  },
  {
   "cell_type": "code",
   "execution_count": 1,
   "metadata": {},
   "outputs": [],
   "source": [
    "# data science\n",
    "import scipy as sp\n",
    "import numpy as np\n",
    "# random numbers https://numpy.org/doc/stable/reference/random/index.html#random-quick-start\n",
    "from numpy.random import default_rng\n",
    "rng = default_rng()\n",
    "# plotting\n",
    "import matplotlib as plt\n",
    "# type hints\n",
    "from scipy.sparse import (\n",
    "    coo_matrix,\n",
    "    csr_matrix,\n",
    "    csc_matrix,\n",
    "    lil_matrix\n",
    ")\n",
    "from IPython.core.magics.execution import TimeitResult"
   ]
  },
  {
   "cell_type": "markdown",
   "metadata": {},
   "source": [
    "### 1.1. generate sparse matrices"
   ]
  },
  {
   "cell_type": "code",
   "execution_count": 2,
   "metadata": {},
   "outputs": [],
   "source": [
    "M_coo = sp.sparse.random(\n",
    "    m = 20000,\n",
    "    n = 20000,\n",
    "    density = 0.01,\n",
    "    format = 'coo',\n",
    "    dtype = float,\n",
    "    random_state = 42\n",
    ")"
   ]
  },
  {
   "cell_type": "code",
   "execution_count": 3,
   "metadata": {},
   "outputs": [],
   "source": [
    "M_csr = sp.sparse.random(\n",
    "    m = 20000,\n",
    "    n = 20000,\n",
    "    density = 0.01,\n",
    "    format = 'csr',\n",
    "    dtype = float,\n",
    "    random_state = 42\n",
    ")"
   ]
  },
  {
   "cell_type": "code",
   "execution_count": 4,
   "metadata": {},
   "outputs": [],
   "source": [
    "M_csc = sp.sparse.random(\n",
    "    m = 20000,\n",
    "    n = 20000,\n",
    "    density = 0.01,\n",
    "    format = 'csc',\n",
    "    dtype = float,\n",
    "    random_state = 42\n",
    ")"
   ]
  },
  {
   "cell_type": "code",
   "execution_count": 5,
   "metadata": {},
   "outputs": [],
   "source": [
    "M_lil = sp.sparse.random(\n",
    "    m = 20000,\n",
    "    n = 20000,\n",
    "    density = 0.01,\n",
    "    format = 'lil',\n",
    "    dtype = float,\n",
    "    random_state = 42\n",
    ")"
   ]
  },
  {
   "cell_type": "markdown",
   "metadata": {},
   "source": [
    "### 1.2. generate index for matrix"
   ]
  },
  {
   "cell_type": "code",
   "execution_count": 6,
   "metadata": {},
   "outputs": [],
   "source": [
    "index_matrix: np.array = np.arange(\n",
    "    start = 0,\n",
    "    stop = 20000,\n",
    "    step = 1,\n",
    "    dtype=int\n",
    ")"
   ]
  },
  {
   "cell_type": "markdown",
   "metadata": {},
   "source": [
    "### 1.3. generate list of rows to set to zero"
   ]
  },
  {
   "cell_type": "code",
   "execution_count": 7,
   "metadata": {},
   "outputs": [],
   "source": [
    "# contains M.shape[0] 0s and 1s of a specified ratio\n",
    "# 1s will be masked and then removed below, 0s will remain untouched\n",
    "array_for_masking: np.array = rng.choice(\n",
    "    a = [0, 1],\n",
    "    size = (M_coo.shape[0], ),\n",
    "    p = [0.2, 0.8]\n",
    ")\n",
    "\n",
    "# contains only indices of rows to be set to zero \n",
    "index_matrix_zero: np.array = np.ma.masked_array(\n",
    "    data = index_matrix,\n",
    "    mask = array_for_masking\n",
    ").compressed()"
   ]
  },
  {
   "cell_type": "code",
   "execution_count": 8,
   "metadata": {},
   "outputs": [
    {
     "data": {
      "text/plain": [
       "(4025,)"
      ]
     },
     "execution_count": 8,
     "metadata": {},
     "output_type": "execute_result"
    }
   ],
   "source": [
    "index_matrix_zero.shape"
   ]
  },
  {
   "cell_type": "markdown",
   "metadata": {},
   "source": [
    "### 2.1. setting rows to zero\n",
    "#### 2.1.1 [\"COO: multiply with a diagonal matrix\"](https://stackoverflow.com/a/65364784)"
   ]
  },
  {
   "cell_type": "code",
   "execution_count": 9,
   "metadata": {},
   "outputs": [],
   "source": [
    "def matrix_multiplication(\n",
    "    matrix: coo_matrix,\n",
    "    rows: np.array\n",
    ") -> coo_matrix:\n",
    "\n",
    "    array_for_diagonal: np.array = np.ones(\n",
    "        shape = [matrix.shape[0]],\n",
    "        dtype = int\n",
    "    )\n",
    "    array_for_diagonal[rows] = 0\n",
    "\n",
    "    matrix = matrix @ sp.sparse.diags(array_for_diagonal)\n",
    "\n",
    "    return matrix\n"
   ]
  },
  {
   "cell_type": "markdown",
   "metadata": {},
   "source": [
    "#### 2.1.2 [\"CSR: edit `csr.data` using a for-loop with `csr.indptr`\"](https://stackoverflow.com/q/12129948)\n",
    "\n",
    "💡 [`csr_matrix` information on indexing](https://stackoverflow.com/a/52299730)"
   ]
  },
  {
   "cell_type": "code",
   "execution_count": 10,
   "metadata": {},
   "outputs": [],
   "source": [
    "def csr_loop_set_rows_to_zero(\n",
    "    matrix: csr_matrix,\n",
    "    rows: np.array\n",
    ") -> csr_matrix:\n",
    "\n",
    "    for row in rows:\n",
    "        matrix.data[\n",
    "            matrix.indptr[row]:matrix.indptr[row+1]\n",
    "        ] = 0\n",
    "        \n",
    "    return matrix"
   ]
  },
  {
   "cell_type": "markdown",
   "metadata": {},
   "source": [
    "#### 2.1.3 [\"CSR: regular indexing notation\"](https://stackoverflow.com/a/15900629)\n",
    "\n",
    "⚠️ this runs too long for `%%timeit` to complete in a reasonable time"
   ]
  },
  {
   "cell_type": "code",
   "execution_count": 11,
   "metadata": {},
   "outputs": [],
   "source": [
    "def csr_indexing_set_rows_to_zero(\n",
    "    matrix: csr_matrix,\n",
    "    rows: np.array\n",
    ") -> csr_matrix:\n",
    "\n",
    "    for row in rows:\n",
    "        matrix[row,:] = 0\n",
    "    \n",
    "    return matrix"
   ]
  },
  {
   "cell_type": "markdown",
   "metadata": {},
   "source": [
    "#### 2.1.4 [\"LIL: regular indexing notation\"](https://stackoverflow.com/a/69310639)\n",
    "\n",
    "💡 [`scipy.sparse.lil_matrix`](https://docs.scipy.org/doc/scipy/reference/generated/scipy.sparse.lil_matrix.html#scipy.sparse.lil_matrix)"
   ]
  },
  {
   "cell_type": "code",
   "execution_count": 12,
   "metadata": {},
   "outputs": [],
   "source": [
    "def lil_set_rows_to_zero(\n",
    "    matrix: lil_matrix,\n",
    "    rows: np.array\n",
    ") -> lil_matrix:\n",
    "\n",
    "    for row in rows:\n",
    "        matrix[row,:] = 0\n",
    "    \n",
    "    return matrix"
   ]
  },
  {
   "cell_type": "markdown",
   "metadata": {},
   "source": [
    "#### 2.1.5 \"CSR/dense: convert back-and-forth between dense and sparse matrices\""
   ]
  },
  {
   "cell_type": "code",
   "execution_count": 20,
   "metadata": {},
   "outputs": [],
   "source": [
    "def convert_to_dense_and_back(\n",
    "    matrix: coo_matrix,\n",
    "    rows: np.array\n",
    ") -> coo_matrix:\n",
    "\n",
    "    mask_rows = np.ones(\n",
    "        shape = (matrix.shape[0], ),\n",
    "        dtype = bool\n",
    "    )\n",
    "    mask_rows[rows] = False\n",
    "\n",
    "    matrix_dense = matrix.todense()\n",
    "    matrix_dense[mask_rows] = 0\n",
    "    matrix = coo_matrix(matrix_dense)\n",
    "\n",
    "    return matrix\n"
   ]
  },
  {
   "cell_type": "markdown",
   "metadata": {},
   "source": [
    "#### 2.1.6 [\"CSR: mask out `csr.data` and `csr.indices` using `csr.indptr`\"](https://stackoverflow.com/a/19800305)"
   ]
  },
  {
   "cell_type": "markdown",
   "metadata": {},
   "source": [
    "❓ what does `np.diff(csr_matrix.indptr)` do? \\\n",
    "❗️ it counts the number of `data` per *index pointer* (`indptr`), which is the number of `data` per *row*\n",
    "\n",
    "❓ what does `np.repeat(mask, nnz_per_row)` do? \\\n",
    "❗️ see OneNote drawing"
   ]
  },
  {
   "cell_type": "code",
   "execution_count": 14,
   "metadata": {},
   "outputs": [],
   "source": [
    "def csr_mask_set_rows_to_zero(\n",
    "    matrix: csr_matrix,\n",
    "    rows: np.array\n",
    ") -> csr_matrix:\n",
    "\n",
    "    number_nonzero_per_row: np.array = np.diff(matrix.indptr)\n",
    "\n",
    "    mask_rows = np.ones(\n",
    "        shape = (matrix.shape[0], ),\n",
    "        dtype = bool\n",
    "    )\n",
    "    mask_rows[rows_to_zero] = False\n",
    "\n",
    "    mask = np.repeat(\n",
    "        a = mask_rows, # input array, TRUE for rows to keep, FALSE for rows to set 0\n",
    "        repeats = number_nonzero_per_row # array with number of non-zero elements (=data) per row\n",
    "    )\n",
    " \n",
    "    number_nonzero_per_row[rows_to_zero] = 0\n",
    "\n",
    "    matrix.data = matrix.data[mask]\n",
    "    matrix.indices = matrix.indices[mask]\n",
    "    matrix.indptr[1:] = np.cumsum(number_nonzero_per_row)\n",
    "\n",
    "    return matrix"
   ]
  },
  {
   "cell_type": "markdown",
   "metadata": {},
   "source": [
    "#### 2.1.7 [\"CSR: concatenate magic\"](https://stackoverflow.com/a/58748646)\n",
    "\n",
    "🙈 whaaat?"
   ]
  },
  {
   "cell_type": "code",
   "execution_count": 15,
   "metadata": {},
   "outputs": [],
   "source": [
    "def qq():\n",
    "    idx = a.indptr.searchsorted(*(a.indices==i).nonzero(),\"right\")-1\n",
    "    return np.bincount(\n",
    "        np.concatenate([a.indices[a.indptr[i]:a.indptr[i+1]] for i in idx]),\n",
    "        np.concatenate([a.data[a.indptr[i]:a.indptr[i+1]] for i in idx]),\n",
    "        a.shape[1]) / len(idx)"
   ]
  },
  {
   "cell_type": "markdown",
   "metadata": {},
   "source": [
    "#### 2.1.8 [`pylcaio` implementation (convert to `pd.DataFrame`)](https://github.com/OASES-project/pylcaio/blob/master/src/pylcaio.py#L1340)"
   ]
  },
  {
   "cell_type": "code",
   "execution_count": null,
   "metadata": {},
   "outputs": [],
   "source": [
    "\"\"\"\n",
    "def pylcaio_implementation(\n",
    "    matrix: csr_matrix,\n",
    "    rows: np.array\n",
    ") -> np.array:\n",
    "\n",
    "    # sets all dataframe rows to zero where the process ID matches the one in list_to_hyb \n",
    "    ANT.loc[self.list_to_hyb] = 0\n",
    "    ANT.fillna(0,inplace=True)\n",
    "\n",
    "    # matrix of production processes\n",
    "    Amarket = self.A_ff.copy()\n",
    "    Amarket = pd.DataFrame(\n",
    "        data = Amarket.todense(),\n",
    "        index = self.PRO_f.index,\n",
    "        columns = self.PRO_f.index\n",
    "    )\n",
    "\n",
    "    # sets all dataframe rows to zero where the process ID matches the one in listmarket \n",
    "    Amarket.loc[self.listmarket] = 0\n",
    "    Amarket.fillna(0,inplace=True)\n",
    "\"\"\""
   ]
  },
  {
   "cell_type": "markdown",
   "metadata": {},
   "source": [
    "### 3.1 measuring performance"
   ]
  },
  {
   "cell_type": "code",
   "execution_count": 16,
   "metadata": {},
   "outputs": [
    {
     "name": "stdout",
     "output_type": "stream",
     "text": [
      "1.44 s ± 35.5 ms per loop (mean ± std. dev. of 7 runs, 1 loop each)\n"
     ]
    }
   ],
   "source": [
    "time_lil: TimeitResult =  %timeit -o lil_set_rows_to_zero(M_lil, index_matrix_zero)"
   ]
  },
  {
   "cell_type": "code",
   "execution_count": 17,
   "metadata": {},
   "outputs": [
    {
     "name": "stdout",
     "output_type": "stream",
     "text": [
      "2.02 ms ± 25.3 µs per loop (mean ± std. dev. of 7 runs, 100 loops each)\n"
     ]
    }
   ],
   "source": [
    "time_csr_data: TimeitResult =  %timeit -o csr_loop_set_rows_to_zero(M_csr, index_matrix_zero)"
   ]
  },
  {
   "cell_type": "code",
   "execution_count": 18,
   "metadata": {},
   "outputs": [
    {
     "name": "stdout",
     "output_type": "stream",
     "text": [
      "176 ms ± 729 µs per loop (mean ± std. dev. of 7 runs, 10 loops each)\n"
     ]
    }
   ],
   "source": [
    "time_coo: TimeitResult = %timeit -o matrix_multiplication(M_coo, index_matrix_zero)"
   ]
  },
  {
   "cell_type": "code",
   "execution_count": 22,
   "metadata": {},
   "outputs": [
    {
     "name": "stdout",
     "output_type": "stream",
     "text": [
      "2.22 s ± 30.2 ms per loop (mean ± std. dev. of 7 runs, 1 loop each)\n"
     ]
    }
   ],
   "source": [
    "time_conversion: TimeitResult = %timeit -o convert_to_dense_and_back(M_coo, index_matrix_zero)"
   ]
  },
  {
   "cell_type": "code",
   "execution_count": null,
   "metadata": {},
   "outputs": [
    {
     "name": "stdout",
     "output_type": "stream",
     "text": [
      "10.5 ms ± 36.2 µs per loop (mean ± std. dev. of 7 runs, 100 loops each)\n"
     ]
    }
   ],
   "source": [
    "time_csr_mask: TimeitResult = %timeit -o csr_mask_set_rows_to_zero(M_csr, index_matrix_zero)"
   ]
  }
 ],
 "metadata": {
  "kernelspec": {
   "display_name": "Python 3.10.6 ('main')",
   "language": "python",
   "name": "python3"
  },
  "language_info": {
   "codemirror_mode": {
    "name": "ipython",
    "version": 3
   },
   "file_extension": ".py",
   "mimetype": "text/x-python",
   "name": "python",
   "nbconvert_exporter": "python",
   "pygments_lexer": "ipython3",
   "version": "3.10.6"
  },
  "orig_nbformat": 4,
  "vscode": {
   "interpreter": {
    "hash": "5c47573e6b76e4e3b75c409f99dfa4e531246fb1edc220bf519a288d15e464ac"
   }
  }
 },
 "nbformat": 4,
 "nbformat_minor": 2
}
