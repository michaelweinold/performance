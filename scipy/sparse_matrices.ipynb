{
 "cells": [
  {
   "cell_type": "markdown",
   "metadata": {},
   "source": [
    "📚 references:\n",
    "\n",
    "1. https://stackoverflow.com/q/19784868\n",
    "2. https://stackoverflow.com/q/12129948\n",
    "3. https://stackoverflow.com/q/28427236\n",
    "4. https://stackoverflow.com/q/15896588\n",
    "\n",
    "💡 [`csr_matrix` information on indexing](https://stackoverflow.com/a/52299730) \\\n",
    "💡 [`scipy.sparse.coo_matrix`](https://docs.scipy.org/doc/scipy/reference/generated/scipy.sparse.coo_matrix.html#scipy-sparse-coo-matrix) \\\n",
    "💡 [`scipy.sparse.csr_matrix`](https://docs.scipy.org/doc/scipy/reference/generated/scipy.sparse.csr_matrix.html#scipy-sparse-csr-matrix) \\\n",
    "💡 [`scipy.sparse.lil_matrix`](https://docs.scipy.org/doc/scipy/reference/generated/scipy.sparse.lil_matrix.html#scipy.sparse.lil_matrix) \\\n",
    "💡 [`%%timeit` magic documentation](https://ipython.readthedocs.io/en/stable/interactive/magics.html) "
   ]
  },
  {
   "cell_type": "markdown",
   "metadata": {},
   "source": [
    "### 0. imports"
   ]
  },
  {
   "cell_type": "code",
   "execution_count": 7,
   "metadata": {},
   "outputs": [],
   "source": [
    "# data science\n",
    "import scipy as sp\n",
    "import numpy as np\n",
    "# random numbers https://numpy.org/doc/stable/reference/random/index.html#random-quick-start\n",
    "from numpy.random import default_rng\n",
    "rng = default_rng()\n",
    "# plotting\n",
    "import matplotlib as plt\n",
    "# type hints\n",
    "from scipy.sparse import (\n",
    "    coo_matrix,\n",
    "    csr_matrix,\n",
    "    csc_matrix,\n",
    "    lil_matrix\n",
    ")\n",
    "from IPython.core.magics.execution import TimeitResult"
   ]
  },
  {
   "cell_type": "markdown",
   "metadata": {},
   "source": [
    "### 1.1. generate sparse matrices"
   ]
  },
  {
   "cell_type": "code",
   "execution_count": 8,
   "metadata": {},
   "outputs": [],
   "source": [
    "M_coo = sp.sparse.random(\n",
    "    m = 20000,\n",
    "    n = 20000,\n",
    "    density = 0.01,\n",
    "    format = 'coo',\n",
    "    dtype = float,\n",
    "    random_state = 42\n",
    ")"
   ]
  },
  {
   "cell_type": "code",
   "execution_count": 9,
   "metadata": {},
   "outputs": [],
   "source": [
    "M_csr = sp.sparse.random(\n",
    "    m = 20000,\n",
    "    n = 20000,\n",
    "    density = 0.01,\n",
    "    format = 'csr',\n",
    "    dtype = float,\n",
    "    random_state = 42\n",
    ")"
   ]
  },
  {
   "cell_type": "code",
   "execution_count": 10,
   "metadata": {},
   "outputs": [],
   "source": [
    "M_csc = sp.sparse.random(\n",
    "    m = 20000,\n",
    "    n = 20000,\n",
    "    density = 0.01,\n",
    "    format = 'csc',\n",
    "    dtype = float,\n",
    "    random_state = 42\n",
    ")"
   ]
  },
  {
   "cell_type": "code",
   "execution_count": 11,
   "metadata": {},
   "outputs": [],
   "source": [
    "M_lil = sp.sparse.random(\n",
    "    m = 20000,\n",
    "    n = 20000,\n",
    "    density = 0.01,\n",
    "    format = 'lil',\n",
    "    dtype = float,\n",
    "    random_state = 42\n",
    ")"
   ]
  },
  {
   "cell_type": "markdown",
   "metadata": {},
   "source": [
    "### 1.2. generate index for matrix"
   ]
  },
  {
   "cell_type": "code",
   "execution_count": 12,
   "metadata": {},
   "outputs": [],
   "source": [
    "index_matrix: np.array = np.arange(\n",
    "    start = 0,\n",
    "    stop = 20000,\n",
    "    step = 1,\n",
    "    dtype=int\n",
    ")"
   ]
  },
  {
   "cell_type": "markdown",
   "metadata": {},
   "source": [
    "### 1.3. generate list of rows to set to zero"
   ]
  },
  {
   "cell_type": "code",
   "execution_count": 83,
   "metadata": {},
   "outputs": [],
   "source": [
    "# contains M.shape[0] 0s and 1s of a specified ratio\n",
    "# 1s will be masked and then removed below, 0s will remain untouched\n",
    "array_for_masking: np.array = rng.choice(\n",
    "    a = [0, 1],\n",
    "    size = (M.shape[0], ),\n",
    "    p = [0.2, 0.8]\n",
    ")\n",
    "\n",
    "# contains only indices of rows to be set to zero \n",
    "index_matrix_zero: np.array = np.ma.masked_array(\n",
    "    data = index_matrix,\n",
    "    mask = array_rows\n",
    ").compressed()"
   ]
  },
  {
   "cell_type": "code",
   "execution_count": 84,
   "metadata": {},
   "outputs": [
    {
     "data": {
      "text/plain": [
       "(3915,)"
      ]
     },
     "execution_count": 84,
     "metadata": {},
     "output_type": "execute_result"
    }
   ],
   "source": [
    "index_matrix_zero.shape"
   ]
  },
  {
   "cell_type": "markdown",
   "metadata": {},
   "source": [
    "### 2.1. setting rows to zero\n",
    "#### 2.1.1 [\"COO: multiply with a diagonal matrix\"](https://stackoverflow.com/a/65364784)"
   ]
  },
  {
   "cell_type": "code",
   "execution_count": 124,
   "metadata": {},
   "outputs": [],
   "source": [
    "array_for_diagonal: np.array = np.ones(\n",
    "    shape = [M_coo.shape[0]],\n",
    "    dtype = int\n",
    ")\n",
    "array_for_diagonal[index_matrix_zero] = 0"
   ]
  },
  {
   "cell_type": "code",
   "execution_count": 125,
   "metadata": {},
   "outputs": [],
   "source": [
    "D = sp.sparse.diags(array_for_diagonal)"
   ]
  },
  {
   "cell_type": "markdown",
   "metadata": {},
   "source": [
    "#### 2.1.2 [\"CSR: set rows to zero by using `indptr`\"](https://stackoverflow.com/q/12129948)\n",
    "\n",
    "💡 [`csr_matrix` information on indexing](https://stackoverflow.com/a/52299730)"
   ]
  },
  {
   "cell_type": "code",
   "execution_count": 159,
   "metadata": {},
   "outputs": [],
   "source": [
    "def csr_data_set_rows_to_zero(\n",
    "    matrix: csr_matrix,\n",
    "    rows: np.array\n",
    ") -> csr_matrix:\n",
    "\n",
    "    for row in rows:\n",
    "        matrix.data[\n",
    "            matrix.indptr[row]:matrix.indptr[row+1]\n",
    "        ] = 0\n",
    "        \n",
    "    return matrix"
   ]
  },
  {
   "cell_type": "markdown",
   "metadata": {},
   "source": [
    "#### 2.1.3 [\"CSR: regular indexing notation\"](https://stackoverflow.com/a/15900629)\n",
    "\n",
    "⚠️ this runs too long for `%%timeit` to complete in a reasonable time"
   ]
  },
  {
   "cell_type": "code",
   "execution_count": 132,
   "metadata": {},
   "outputs": [],
   "source": [
    "def csr_set_rows_to_zero_2(\n",
    "    matrix: csr_matrix,\n",
    "    rows: np.array\n",
    ") -> csr_matrix:\n",
    "\n",
    "    for row in rows:\n",
    "        matrix[row,:] = 0\n",
    "    \n",
    "    return matrix"
   ]
  },
  {
   "cell_type": "code",
   "execution_count": 144,
   "metadata": {},
   "outputs": [
    {
     "data": {
      "text/plain": [
       "'\\n%%timeit\\nM_csr_with_some_rows_zero= csr_set_rows_to_zero_2(\\n    matrix = M_csr,\\n    rows = index_matrix_zero\\n)\\n'"
      ]
     },
     "execution_count": 144,
     "metadata": {},
     "output_type": "execute_result"
    }
   ],
   "source": [
    "\"\"\"\n",
    "%%timeit\n",
    "M_csr_with_some_rows_zero= csr_set_rows_to_zero_2(\n",
    "    matrix = M_csr,\n",
    "    rows = index_matrix_zero\n",
    ")\n",
    "\"\"\""
   ]
  },
  {
   "cell_type": "markdown",
   "metadata": {},
   "source": [
    "#### 2.1.4 [\"use lil_matrix\"](https://stackoverflow.com/a/69310639)\n",
    "\n",
    "💡 [`scipy.sparse.lil_matrix`](https://docs.scipy.org/doc/scipy/reference/generated/scipy.sparse.lil_matrix.html#scipy.sparse.lil_matrix) \\"
   ]
  },
  {
   "cell_type": "code",
   "execution_count": 141,
   "metadata": {},
   "outputs": [],
   "source": [
    "def lil_set_rows_to_zero(\n",
    "    matrix: lil_matrix,\n",
    "    rows: np.array\n",
    ") -> lil_matrix:\n",
    "\n",
    "    for row in rows:\n",
    "        matrix[row,:] = 0\n",
    "    \n",
    "    return matrix"
   ]
  },
  {
   "cell_type": "markdown",
   "metadata": {},
   "source": [
    "#### 2.1.5 \"convert back-and-forth between dense and sparse matrices\""
   ]
  },
  {
   "cell_type": "code",
   "execution_count": 165,
   "metadata": {},
   "outputs": [],
   "source": [
    "def convert_to_dense_and_back(\n",
    "    matrix: coo_matrix,\n",
    "    rows: np.array\n",
    ") -> coo_matrix:\n",
    "\n",
    "#@audit does this actually do what I think it does? move proof to separate notebook!\n",
    "\n",
    "    matrix_dense = matrix.todense()\n",
    "    matrix_dense[rows] = 0\n",
    "    matrix = coo_matrix(matrix_dense)\n",
    "\n",
    "    return matrix\n"
   ]
  },
  {
   "cell_type": "markdown",
   "metadata": {},
   "source": [
    "#### 2.1.6 [\"CSR: mask out data and indices\"](https://stackoverflow.com/a/19800305)\n",
    "\n",
    "check also https://stackoverflow.com/a/58748646"
   ]
  },
  {
   "cell_type": "markdown",
   "metadata": {},
   "source": [
    "❓ what does `np.diff(csr_matrix.indptr)` do? \\\n",
    "❗️ it counts the number of `data` per *index pointer* (`indptr`), which is the number of `data` per *row*"
   ]
  },
  {
   "cell_type": "markdown",
   "metadata": {},
   "source": []
  },
  {
   "cell_type": "markdown",
   "metadata": {},
   "source": []
  },
  {
   "cell_type": "code",
   "execution_count": 22,
   "metadata": {},
   "outputs": [
    {
     "data": {
      "text/plain": [
       "array([1, 2, 1, 3, 1, 1, 2])"
      ]
     },
     "execution_count": 22,
     "metadata": {},
     "output_type": "execute_result"
    }
   ],
   "source": [
    "np.diff(np.array([0,1,3,4,7,8,9,11]))"
   ]
  },
  {
   "cell_type": "code",
   "execution_count": 2,
   "metadata": {},
   "outputs": [],
   "source": [
    "rows, cols = 15000, 15000\n",
    "a = sp.sparse.rand(rows, cols, density=0.00001, format='csr')\n",
    "rows_to_zero = np.random.choice(np.arange(rows), size=5000, replace=False)\n",
    "mask = np.ones((rows,), dtype=bool)\n",
    "mask[rows_to_zero] = False"
   ]
  },
  {
   "cell_type": "code",
   "execution_count": 3,
   "metadata": {},
   "outputs": [],
   "source": [
    "nnz_per_row = np.diff(a.indptr)"
   ]
  },
  {
   "cell_type": "code",
   "execution_count": null,
   "metadata": {},
   "outputs": [],
   "source": [
    "nnz_per_row.tolist()"
   ]
  },
  {
   "cell_type": "code",
   "execution_count": 177,
   "metadata": {},
   "outputs": [
    {
     "ename": "ValueError",
     "evalue": "The truth value of an array with more than one element is ambiguous. Use a.any() or a.all()",
     "output_type": "error",
     "traceback": [
      "\u001b[0;31m---------------------------------------------------------------------------\u001b[0m",
      "\u001b[0;31mValueError\u001b[0m                                Traceback (most recent call last)",
      "\u001b[1;32m/Users/michaelweinold/github/performance/scipy/sparse_matrices.ipynb Cell 28\u001b[0m in \u001b[0;36m<cell line: 1>\u001b[0;34m()\u001b[0m\n\u001b[0;32m----> <a href='vscode-notebook-cell:/Users/michaelweinold/github/performance/scipy/sparse_matrices.ipynb#Y155sZmlsZQ%3D%3D?line=0'>1</a>\u001b[0m np\u001b[39m.\u001b[39;49mdiff(M_csr\u001b[39m.\u001b[39;49mindptr, array_for_masking\u001b[39m.\u001b[39;49mastype(\u001b[39mbool\u001b[39;49m))\n",
      "File \u001b[0;32m<__array_function__ internals>:180\u001b[0m, in \u001b[0;36mdiff\u001b[0;34m(*args, **kwargs)\u001b[0m\n",
      "File \u001b[0;32m/opt/homebrew/Caskroom/miniconda/base/envs/main/lib/python3.10/site-packages/numpy/lib/function_base.py:1404\u001b[0m, in \u001b[0;36mdiff\u001b[0;34m(a, n, axis, prepend, append)\u001b[0m\n\u001b[1;32m   1319\u001b[0m \u001b[39m@array_function_dispatch\u001b[39m(_diff_dispatcher)\n\u001b[1;32m   1320\u001b[0m \u001b[39mdef\u001b[39;00m \u001b[39mdiff\u001b[39m(a, n\u001b[39m=\u001b[39m\u001b[39m1\u001b[39m, axis\u001b[39m=\u001b[39m\u001b[39m-\u001b[39m\u001b[39m1\u001b[39m, prepend\u001b[39m=\u001b[39mnp\u001b[39m.\u001b[39m_NoValue, append\u001b[39m=\u001b[39mnp\u001b[39m.\u001b[39m_NoValue):\n\u001b[1;32m   1321\u001b[0m     \u001b[39m\"\"\"\u001b[39;00m\n\u001b[1;32m   1322\u001b[0m \u001b[39m    Calculate the n-th discrete difference along the given axis.\u001b[39;00m\n\u001b[1;32m   1323\u001b[0m \n\u001b[0;32m   (...)\u001b[0m\n\u001b[1;32m   1402\u001b[0m \n\u001b[1;32m   1403\u001b[0m \u001b[39m    \"\"\"\u001b[39;00m\n\u001b[0;32m-> 1404\u001b[0m     \u001b[39mif\u001b[39;00m n \u001b[39m==\u001b[39m \u001b[39m0\u001b[39m:\n\u001b[1;32m   1405\u001b[0m         \u001b[39mreturn\u001b[39;00m a\n\u001b[1;32m   1406\u001b[0m     \u001b[39mif\u001b[39;00m n \u001b[39m<\u001b[39m \u001b[39m0\u001b[39m:\n",
      "\u001b[0;31mValueError\u001b[0m: The truth value of an array with more than one element is ambiguous. Use a.any() or a.all()"
     ]
    }
   ],
   "source": [
    "np.diff(M_csr.indptr, array_for_masking.astype(bool))"
   ]
  },
  {
   "cell_type": "code",
   "execution_count": null,
   "metadata": {},
   "outputs": [],
   "source": [
    "def csr_zero_rows(csr, rows_to_zero):\n",
    "    rows, cols = csr.shape\n",
    "    mask = np.ones(\n",
    "        shape = (rows, ),\n",
    "        dtype = np.bool)\n",
    "    mask[rows_to_zero] = False\n",
    "    \n",
    "    nnz_per_row = np.diff(csr.indptr)\n",
    "\n",
    "    mask = np.repeat(mask, nnz_per_row)\n",
    "    nnz_per_row[rows_to_zero] = 0\n",
    "    csr.data = csr.data[mask]\n",
    "    csr.indices = csr.indices[mask]\n",
    "    csr.indptr[1:] = np.cumsum(nnz_per_row)"
   ]
  },
  {
   "cell_type": "markdown",
   "metadata": {},
   "source": [
    "#### 2.1.7 [\"CSR: concatenate magic\"](https://stackoverflow.com/a/58748646)"
   ]
  },
  {
   "cell_type": "markdown",
   "metadata": {},
   "source": [
    "### 3.1 measuring performance"
   ]
  },
  {
   "cell_type": "code",
   "execution_count": 158,
   "metadata": {},
   "outputs": [
    {
     "name": "stdout",
     "output_type": "stream",
     "text": [
      "1.42 s ± 26.2 ms per loop (mean ± std. dev. of 7 runs, 1 loop each)\n"
     ]
    }
   ],
   "source": [
    "time_lil: TimeitResult =  %timeit -o lil_set_rows_to_zero(M_lil, index_matrix_zero)"
   ]
  },
  {
   "cell_type": "code",
   "execution_count": 160,
   "metadata": {},
   "outputs": [
    {
     "name": "stdout",
     "output_type": "stream",
     "text": [
      "9 ms ± 144 µs per loop (mean ± std. dev. of 7 runs, 100 loops each)\n"
     ]
    }
   ],
   "source": [
    "time_csr_data: TimeitResult =  %timeit -o csr_data_set_rows_to_zero(M_csr, index_matrix_zero)"
   ]
  },
  {
   "cell_type": "code",
   "execution_count": 161,
   "metadata": {},
   "outputs": [
    {
     "name": "stdout",
     "output_type": "stream",
     "text": [
      "175 ms ± 1.7 ms per loop (mean ± std. dev. of 7 runs, 10 loops each)\n"
     ]
    }
   ],
   "source": [
    "time_coo: TimeitResult = %timeit -o M_coo @ D"
   ]
  },
  {
   "cell_type": "code",
   "execution_count": 166,
   "metadata": {},
   "outputs": [
    {
     "name": "stdout",
     "output_type": "stream",
     "text": [
      "2.29 s ± 59.7 ms per loop (mean ± std. dev. of 7 runs, 1 loop each)\n"
     ]
    }
   ],
   "source": [
    "time_conversion: TimeitResult = %timeit -o convert_to_dense_and_back(M_coo, index_matrix_zero)"
   ]
  }
 ],
 "metadata": {
  "kernelspec": {
   "display_name": "Python 3.10.6 ('main')",
   "language": "python",
   "name": "python3"
  },
  "language_info": {
   "codemirror_mode": {
    "name": "ipython",
    "version": 3
   },
   "file_extension": ".py",
   "mimetype": "text/x-python",
   "name": "python",
   "nbconvert_exporter": "python",
   "pygments_lexer": "ipython3",
   "version": "3.10.6"
  },
  "orig_nbformat": 4,
  "vscode": {
   "interpreter": {
    "hash": "5c47573e6b76e4e3b75c409f99dfa4e531246fb1edc220bf519a288d15e464ac"
   }
  }
 },
 "nbformat": 4,
 "nbformat_minor": 2
}
